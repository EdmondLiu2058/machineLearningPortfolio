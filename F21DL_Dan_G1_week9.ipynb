{
 "cells": [
  {
   "cell_type": "code",
   "execution_count": 2,
   "metadata": {},
   "outputs": [
    {
     "data": {
      "text/plain": [
       "'/Users/liujinglei/Desktop'"
      ]
     },
     "execution_count": 2,
     "metadata": {},
     "output_type": "execute_result"
    }
   ],
   "source": [
    "import os\n",
    "os.getcwd()"
   ]
  },
  {
   "cell_type": "code",
   "execution_count": 3,
   "metadata": {},
   "outputs": [],
   "source": [
    "import sys\n",
    "assert sys.version_info >= (3, 5)\n",
    "\n",
    "import sklearn\n",
    "assert sklearn.__version__ >= \"0.20\"\n",
    "\n",
    "import numpy as np\n",
    "import os\n",
    "import tarfile\n",
    "import urllib\n",
    "import pandas as pd\n",
    "import urllib.request\n",
    "\n",
    "from sklearn.compose import ColumnTransformer\n",
    "from sklearn.pipeline import Pipeline\n",
    "from sklearn.impute import SimpleImputer\n",
    "from sklearn.preprocessing import OneHotEncoder\n",
    "from sklearn.metrics import mean_absolute_error, r2_score, mean_squared_error\n",
    "from sklearn.base import clone, BaseEstimator, TransformerMixin\n",
    "\n",
    "get_ipython().run_line_magic('matplotlib', 'inline')\n",
    "import matplotlib as mpl\n",
    "import matplotlib.pyplot as plt\n",
    "import seaborn as sns\n",
    "\n",
    "dataset = pd.read_csv('House-Price-Prediction-clean.csv')"
   ]
  },
  {
   "cell_type": "code",
   "execution_count": 4,
   "metadata": {},
   "outputs": [
    {
     "data": {
      "text/html": [
       "<div>\n",
       "<style scoped>\n",
       "    .dataframe tbody tr th:only-of-type {\n",
       "        vertical-align: middle;\n",
       "    }\n",
       "\n",
       "    .dataframe tbody tr th {\n",
       "        vertical-align: top;\n",
       "    }\n",
       "\n",
       "    .dataframe thead th {\n",
       "        text-align: right;\n",
       "    }\n",
       "</style>\n",
       "<table border=\"1\" class=\"dataframe\">\n",
       "  <thead>\n",
       "    <tr style=\"text-align: right;\">\n",
       "      <th></th>\n",
       "      <th>Id</th>\n",
       "      <th>MSSubClass</th>\n",
       "      <th>LotArea</th>\n",
       "      <th>OverallQual</th>\n",
       "      <th>OverallCond</th>\n",
       "      <th>YearBuilt</th>\n",
       "      <th>YearRemodAdd</th>\n",
       "      <th>BsmtFinSF1</th>\n",
       "      <th>BsmtUnfSF</th>\n",
       "      <th>TotalBsmtSF</th>\n",
       "      <th>...</th>\n",
       "      <th>WoodDeckSF</th>\n",
       "      <th>OpenPorchSF</th>\n",
       "      <th>EnclosedPorch</th>\n",
       "      <th>3SsnPorch</th>\n",
       "      <th>ScreenPorch</th>\n",
       "      <th>PoolArea</th>\n",
       "      <th>MiscVal</th>\n",
       "      <th>MoSold</th>\n",
       "      <th>YrSold</th>\n",
       "      <th>SalePrice</th>\n",
       "    </tr>\n",
       "  </thead>\n",
       "  <tbody>\n",
       "    <tr>\n",
       "      <th>0</th>\n",
       "      <td>1</td>\n",
       "      <td>60</td>\n",
       "      <td>8450</td>\n",
       "      <td>7</td>\n",
       "      <td>5</td>\n",
       "      <td>2003</td>\n",
       "      <td>2003</td>\n",
       "      <td>706</td>\n",
       "      <td>150</td>\n",
       "      <td>856</td>\n",
       "      <td>...</td>\n",
       "      <td>0</td>\n",
       "      <td>61</td>\n",
       "      <td>0</td>\n",
       "      <td>0</td>\n",
       "      <td>0</td>\n",
       "      <td>0</td>\n",
       "      <td>0</td>\n",
       "      <td>2</td>\n",
       "      <td>2008</td>\n",
       "      <td>208500</td>\n",
       "    </tr>\n",
       "    <tr>\n",
       "      <th>1</th>\n",
       "      <td>2</td>\n",
       "      <td>20</td>\n",
       "      <td>9600</td>\n",
       "      <td>6</td>\n",
       "      <td>8</td>\n",
       "      <td>1976</td>\n",
       "      <td>1976</td>\n",
       "      <td>978</td>\n",
       "      <td>284</td>\n",
       "      <td>1262</td>\n",
       "      <td>...</td>\n",
       "      <td>298</td>\n",
       "      <td>0</td>\n",
       "      <td>0</td>\n",
       "      <td>0</td>\n",
       "      <td>0</td>\n",
       "      <td>0</td>\n",
       "      <td>0</td>\n",
       "      <td>5</td>\n",
       "      <td>2007</td>\n",
       "      <td>181500</td>\n",
       "    </tr>\n",
       "    <tr>\n",
       "      <th>2</th>\n",
       "      <td>3</td>\n",
       "      <td>60</td>\n",
       "      <td>11250</td>\n",
       "      <td>7</td>\n",
       "      <td>5</td>\n",
       "      <td>2001</td>\n",
       "      <td>2002</td>\n",
       "      <td>486</td>\n",
       "      <td>434</td>\n",
       "      <td>920</td>\n",
       "      <td>...</td>\n",
       "      <td>0</td>\n",
       "      <td>42</td>\n",
       "      <td>0</td>\n",
       "      <td>0</td>\n",
       "      <td>0</td>\n",
       "      <td>0</td>\n",
       "      <td>0</td>\n",
       "      <td>9</td>\n",
       "      <td>2008</td>\n",
       "      <td>223500</td>\n",
       "    </tr>\n",
       "    <tr>\n",
       "      <th>3</th>\n",
       "      <td>4</td>\n",
       "      <td>70</td>\n",
       "      <td>9550</td>\n",
       "      <td>7</td>\n",
       "      <td>5</td>\n",
       "      <td>1915</td>\n",
       "      <td>1970</td>\n",
       "      <td>216</td>\n",
       "      <td>540</td>\n",
       "      <td>756</td>\n",
       "      <td>...</td>\n",
       "      <td>0</td>\n",
       "      <td>35</td>\n",
       "      <td>272</td>\n",
       "      <td>0</td>\n",
       "      <td>0</td>\n",
       "      <td>0</td>\n",
       "      <td>0</td>\n",
       "      <td>2</td>\n",
       "      <td>2006</td>\n",
       "      <td>140000</td>\n",
       "    </tr>\n",
       "    <tr>\n",
       "      <th>4</th>\n",
       "      <td>5</td>\n",
       "      <td>60</td>\n",
       "      <td>14260</td>\n",
       "      <td>8</td>\n",
       "      <td>5</td>\n",
       "      <td>2000</td>\n",
       "      <td>2000</td>\n",
       "      <td>655</td>\n",
       "      <td>490</td>\n",
       "      <td>1145</td>\n",
       "      <td>...</td>\n",
       "      <td>192</td>\n",
       "      <td>84</td>\n",
       "      <td>0</td>\n",
       "      <td>0</td>\n",
       "      <td>0</td>\n",
       "      <td>0</td>\n",
       "      <td>0</td>\n",
       "      <td>12</td>\n",
       "      <td>2008</td>\n",
       "      <td>250000</td>\n",
       "    </tr>\n",
       "    <tr>\n",
       "      <th>...</th>\n",
       "      <td>...</td>\n",
       "      <td>...</td>\n",
       "      <td>...</td>\n",
       "      <td>...</td>\n",
       "      <td>...</td>\n",
       "      <td>...</td>\n",
       "      <td>...</td>\n",
       "      <td>...</td>\n",
       "      <td>...</td>\n",
       "      <td>...</td>\n",
       "      <td>...</td>\n",
       "      <td>...</td>\n",
       "      <td>...</td>\n",
       "      <td>...</td>\n",
       "      <td>...</td>\n",
       "      <td>...</td>\n",
       "      <td>...</td>\n",
       "      <td>...</td>\n",
       "      <td>...</td>\n",
       "      <td>...</td>\n",
       "      <td>...</td>\n",
       "    </tr>\n",
       "    <tr>\n",
       "      <th>1455</th>\n",
       "      <td>1456</td>\n",
       "      <td>60</td>\n",
       "      <td>7917</td>\n",
       "      <td>6</td>\n",
       "      <td>5</td>\n",
       "      <td>1999</td>\n",
       "      <td>2000</td>\n",
       "      <td>0</td>\n",
       "      <td>953</td>\n",
       "      <td>953</td>\n",
       "      <td>...</td>\n",
       "      <td>0</td>\n",
       "      <td>40</td>\n",
       "      <td>0</td>\n",
       "      <td>0</td>\n",
       "      <td>0</td>\n",
       "      <td>0</td>\n",
       "      <td>0</td>\n",
       "      <td>8</td>\n",
       "      <td>2007</td>\n",
       "      <td>175000</td>\n",
       "    </tr>\n",
       "    <tr>\n",
       "      <th>1456</th>\n",
       "      <td>1457</td>\n",
       "      <td>20</td>\n",
       "      <td>13175</td>\n",
       "      <td>6</td>\n",
       "      <td>6</td>\n",
       "      <td>1978</td>\n",
       "      <td>1988</td>\n",
       "      <td>790</td>\n",
       "      <td>589</td>\n",
       "      <td>1542</td>\n",
       "      <td>...</td>\n",
       "      <td>349</td>\n",
       "      <td>0</td>\n",
       "      <td>0</td>\n",
       "      <td>0</td>\n",
       "      <td>0</td>\n",
       "      <td>0</td>\n",
       "      <td>0</td>\n",
       "      <td>2</td>\n",
       "      <td>2010</td>\n",
       "      <td>210000</td>\n",
       "    </tr>\n",
       "    <tr>\n",
       "      <th>1457</th>\n",
       "      <td>1458</td>\n",
       "      <td>70</td>\n",
       "      <td>9042</td>\n",
       "      <td>7</td>\n",
       "      <td>9</td>\n",
       "      <td>1941</td>\n",
       "      <td>2006</td>\n",
       "      <td>275</td>\n",
       "      <td>877</td>\n",
       "      <td>1152</td>\n",
       "      <td>...</td>\n",
       "      <td>0</td>\n",
       "      <td>60</td>\n",
       "      <td>0</td>\n",
       "      <td>0</td>\n",
       "      <td>0</td>\n",
       "      <td>0</td>\n",
       "      <td>2500</td>\n",
       "      <td>5</td>\n",
       "      <td>2010</td>\n",
       "      <td>266500</td>\n",
       "    </tr>\n",
       "    <tr>\n",
       "      <th>1458</th>\n",
       "      <td>1459</td>\n",
       "      <td>20</td>\n",
       "      <td>9717</td>\n",
       "      <td>5</td>\n",
       "      <td>6</td>\n",
       "      <td>1950</td>\n",
       "      <td>1996</td>\n",
       "      <td>49</td>\n",
       "      <td>0</td>\n",
       "      <td>1078</td>\n",
       "      <td>...</td>\n",
       "      <td>366</td>\n",
       "      <td>0</td>\n",
       "      <td>112</td>\n",
       "      <td>0</td>\n",
       "      <td>0</td>\n",
       "      <td>0</td>\n",
       "      <td>0</td>\n",
       "      <td>4</td>\n",
       "      <td>2010</td>\n",
       "      <td>142125</td>\n",
       "    </tr>\n",
       "    <tr>\n",
       "      <th>1459</th>\n",
       "      <td>1460</td>\n",
       "      <td>20</td>\n",
       "      <td>9937</td>\n",
       "      <td>5</td>\n",
       "      <td>6</td>\n",
       "      <td>1965</td>\n",
       "      <td>1965</td>\n",
       "      <td>830</td>\n",
       "      <td>136</td>\n",
       "      <td>1256</td>\n",
       "      <td>...</td>\n",
       "      <td>736</td>\n",
       "      <td>68</td>\n",
       "      <td>0</td>\n",
       "      <td>0</td>\n",
       "      <td>0</td>\n",
       "      <td>0</td>\n",
       "      <td>0</td>\n",
       "      <td>6</td>\n",
       "      <td>2008</td>\n",
       "      <td>147500</td>\n",
       "    </tr>\n",
       "  </tbody>\n",
       "</table>\n",
       "<p>1460 rows × 32 columns</p>\n",
       "</div>"
      ],
      "text/plain": [
       "        Id  MSSubClass  LotArea  OverallQual  OverallCond  YearBuilt  \\\n",
       "0        1          60     8450            7            5       2003   \n",
       "1        2          20     9600            6            8       1976   \n",
       "2        3          60    11250            7            5       2001   \n",
       "3        4          70     9550            7            5       1915   \n",
       "4        5          60    14260            8            5       2000   \n",
       "...    ...         ...      ...          ...          ...        ...   \n",
       "1455  1456          60     7917            6            5       1999   \n",
       "1456  1457          20    13175            6            6       1978   \n",
       "1457  1458          70     9042            7            9       1941   \n",
       "1458  1459          20     9717            5            6       1950   \n",
       "1459  1460          20     9937            5            6       1965   \n",
       "\n",
       "      YearRemodAdd  BsmtFinSF1  BsmtUnfSF  TotalBsmtSF  ...  WoodDeckSF  \\\n",
       "0             2003         706        150          856  ...           0   \n",
       "1             1976         978        284         1262  ...         298   \n",
       "2             2002         486        434          920  ...           0   \n",
       "3             1970         216        540          756  ...           0   \n",
       "4             2000         655        490         1145  ...         192   \n",
       "...            ...         ...        ...          ...  ...         ...   \n",
       "1455          2000           0        953          953  ...           0   \n",
       "1456          1988         790        589         1542  ...         349   \n",
       "1457          2006         275        877         1152  ...           0   \n",
       "1458          1996          49          0         1078  ...         366   \n",
       "1459          1965         830        136         1256  ...         736   \n",
       "\n",
       "      OpenPorchSF  EnclosedPorch  3SsnPorch  ScreenPorch  PoolArea  MiscVal  \\\n",
       "0              61              0          0            0         0        0   \n",
       "1               0              0          0            0         0        0   \n",
       "2              42              0          0            0         0        0   \n",
       "3              35            272          0            0         0        0   \n",
       "4              84              0          0            0         0        0   \n",
       "...           ...            ...        ...          ...       ...      ...   \n",
       "1455           40              0          0            0         0        0   \n",
       "1456            0              0          0            0         0        0   \n",
       "1457           60              0          0            0         0     2500   \n",
       "1458            0            112          0            0         0        0   \n",
       "1459           68              0          0            0         0        0   \n",
       "\n",
       "      MoSold  YrSold  SalePrice  \n",
       "0          2    2008     208500  \n",
       "1          5    2007     181500  \n",
       "2          9    2008     223500  \n",
       "3          2    2006     140000  \n",
       "4         12    2008     250000  \n",
       "...      ...     ...        ...  \n",
       "1455       8    2007     175000  \n",
       "1456       2    2010     210000  \n",
       "1457       5    2010     266500  \n",
       "1458       4    2010     142125  \n",
       "1459       6    2008     147500  \n",
       "\n",
       "[1460 rows x 32 columns]"
      ]
     },
     "execution_count": 4,
     "metadata": {},
     "output_type": "execute_result"
    }
   ],
   "source": [
    "dataset"
   ]
  },
  {
   "cell_type": "code",
   "execution_count": 5,
   "metadata": {},
   "outputs": [],
   "source": [
    "class CombinedAttributesAdder(BaseEstimator, TransformerMixin):\n",
    "    def __init__(self,additional=1):\n",
    "        self.additional = additional\n",
    "    \n",
    "    def fit(self,X,y=None):\n",
    "        return self\n",
    "    \n",
    "    def transform(self,X):\n",
    "        if self.additional==1:\n",
    "            X[\"HouseArea\"] = X[\"TotalBsmtSF\"] + X[\"1stFlrSF\"] + X[\"2ndFlrSF\"]   \n",
    "            # X[\"TotalArea\"] = X[\"TotalBsmtSF\"] + X[\"1stFlrSF\"] + X[\"2ndFlrSF\"] + X[\"GarageArea\"] + X[\"WoodDeckSF\"] + [\"OpenPorchSF\"] + [\"PoolArea\"]\n",
    "            # X[\"HouseAge\"] = X[\"YrSold\"] - X[\"YearBuilt\"]\n",
    "        elif self.additional == 2:\n",
    "            X[\"HouseArea\"] = X[\"TotalBsmtSF\"] + X[\"1stFlrSF\"] + X[\"2ndFlrSF\"]   \n",
    "            X[\"TotalArea\"] = X[\"TotalBsmtSF\"] + X[\"1stFlrSF\"] + X[\"2ndFlrSF\"] + X[\"GarageArea\"] + X[\"WoodDeckSF\"] + X[\"OpenPorchSF\"] + X[\"PoolArea\"]\n",
    "            # X[\"HouseAge\"] = X[\"YrSold\"] - X[\"YearBuilt\"]\n",
    "        else :\n",
    "            X[\"HouseArea\"] = X[\"TotalBsmtSF\"] + X[\"1stFlrSF\"] + X[\"2ndFlrSF\"]   \n",
    "            X[\"TotalArea\"] = X[\"TotalBsmtSF\"] + X[\"1stFlrSF\"] + X[\"2ndFlrSF\"] + X[\"GarageArea\"] + X[\"WoodDeckSF\"] + X[\"OpenPorchSF\"] + X[\"PoolArea\"]\n",
    "            X[\"HouseAge\"]  = X[\"YrSold\"] - X[\"YearBuilt\"]\n",
    "\n",
    "        return X"
   ]
  },
  {
   "cell_type": "code",
   "execution_count": 6,
   "metadata": {},
   "outputs": [
    {
     "name": "stderr",
     "output_type": "stream",
     "text": [
      "/var/folders/mm/ws64ts1j4vj4yjq605hnx32w0000gn/T/ipykernel_72838/1007000735.py:5: FutureWarning: In a future version of pandas all arguments of DataFrame.drop except for the argument 'labels' will be keyword-only.\n",
      "  FullDataPipe = pipe.fit_transform(full_data.drop('Id',1))\n"
     ]
    }
   ],
   "source": [
    "# PIPELINE\n",
    "pipe = Pipeline([('add_feature', CombinedAttributesAdder(additional=3))])\n",
    "full_data = pd.read_csv('House-Price-Prediction-clean.csv')\n",
    "\n",
    "FullDataPipe = pipe.fit_transform(full_data.drop('Id',1))"
   ]
  },
  {
   "cell_type": "code",
   "execution_count": 7,
   "metadata": {},
   "outputs": [
    {
     "data": {
      "text/plain": [
       "SalePrice        1.000000\n",
       "TotalArea        0.813495\n",
       "OverallQual      0.790982\n",
       "HouseArea        0.782260\n",
       "GrLivArea        0.708624\n",
       "GarageCars       0.640409\n",
       "GarageArea       0.623431\n",
       "TotalBsmtSF      0.613581\n",
       "1stFlrSF         0.605852\n",
       "FullBath         0.560664\n",
       "TotRmsAbvGrd     0.533723\n",
       "YearBuilt        0.522897\n",
       "YearRemodAdd     0.507101\n",
       "Fireplaces       0.466929\n",
       "BsmtFinSF1       0.386420\n",
       "WoodDeckSF       0.324413\n",
       "2ndFlrSF         0.319334\n",
       "OpenPorchSF      0.315856\n",
       "HalfBath         0.284108\n",
       "LotArea          0.263843\n",
       "BsmtFullBath     0.227122\n",
       "BsmtUnfSF        0.214479\n",
       "BedroomAbvGr     0.168213\n",
       "ScreenPorch      0.111447\n",
       "PoolArea         0.092404\n",
       "MoSold           0.046432\n",
       "3SsnPorch        0.044584\n",
       "MiscVal         -0.021190\n",
       "YrSold          -0.028923\n",
       "OverallCond     -0.077856\n",
       "MSSubClass      -0.084284\n",
       "EnclosedPorch   -0.128578\n",
       "KitchenAbvGr    -0.135907\n",
       "HouseAge        -0.523350\n",
       "Name: SalePrice, dtype: float64"
      ]
     },
     "execution_count": 7,
     "metadata": {},
     "output_type": "execute_result"
    }
   ],
   "source": [
    "corr_matrix = FullDataPipe.corr()\n",
    "corr_matrix[\"SalePrice\"].sort_values(ascending=False)"
   ]
  },
  {
   "cell_type": "code",
   "execution_count": 8,
   "metadata": {},
   "outputs": [],
   "source": [
    "label_1 =  FullDataPipe[FullDataPipe['SalePrice']>100000]\n",
    "label_2 = label_1[label_1['SalePrice']<400000]"
   ]
  },
  {
   "cell_type": "code",
   "execution_count": 9,
   "metadata": {},
   "outputs": [
    {
     "data": {
      "image/png": "[encoded data removed]",
      "text/plain": [
       "<Figure size 640x480 with 1 Axes>"
      ]
     },
     "metadata": {},
     "output_type": "display_data"
    }
   ],
   "source": [
    "# hist of SalePrice\n",
    "label_2.hist('SalePrice',bins=10)\n",
    "plt.show()"
   ]
  },
  {
   "cell_type": "code",
   "execution_count": 10,
   "metadata": {},
   "outputs": [],
   "source": [
    "df_reg = label_2[['SalePrice', 'TotalArea', 'OverallQual', 'HouseArea', 'GrLivArea', 'GarageCars', 'GarageArea', 'TotalBsmtSF', 'HouseAge']]\n",
    "df_reg_low = label_2[['SalePrice','TotalArea','TotalBsmtSF','MiscVal','LotArea','BsmtUnfSF','BsmtFinSF1']]\n",
    "df_reg_high= label_2[['SalePrice','KitchenAbvGr','BedroomAbvGr','OverallQual','BsmtFullBath','GarageCars']]"
   ]
  },
  {
   "cell_type": "code",
   "execution_count": 11,
   "metadata": {},
   "outputs": [
    {
     "data": {
      "image/png": "[encoded data removed]",
      "text/plain": [
       "<Figure size 1000x1000 with 2 Axes>"
      ]
     },
     "metadata": {},
     "output_type": "display_data"
    }
   ],
   "source": [
    "f, ax = plt.subplots(figsize=(10, 10))\n",
    "mat = df_reg.corr('spearman')\n",
    "mask = np.triu(np.ones_like(mat, dtype=bool))\n",
    "cmap = sns.diverging_palette(230, 20, as_cmap=True)\n",
    "sns.heatmap(mat, mask=mask, cmap=cmap, vmax=1, center=0, annot = True,\n",
    "            square=True, linewidths=.5, cbar_kws={\"shrink\": .5})\n",
    "plt.show()"
   ]
  },
  {
   "cell_type": "markdown",
   "metadata": {},
   "source": [
    "#### do split"
   ]
  },
  {
   "cell_type": "code",
   "execution_count": 12,
   "metadata": {},
   "outputs": [],
   "source": [
    "from sklearn.model_selection import train_test_split\n",
    "from sklearn.linear_model import LinearRegression\n",
    "from sklearn.ensemble import RandomForestRegressor\n",
    "from sklearn.metrics import mean_absolute_error, r2_score, mean_squared_error\n",
    "from sklearn.model_selection import cross_val_score"
   ]
  },
  {
   "cell_type": "code",
   "execution_count": 13,
   "metadata": {},
   "outputs": [
    {
     "name": "stderr",
     "output_type": "stream",
     "text": [
      "/var/folders/mm/ws64ts1j4vj4yjq605hnx32w0000gn/T/ipykernel_72838/885773913.py:7: FutureWarning: In a future version of pandas all arguments of DataFrame.drop except for the argument 'labels' will be keyword-only.\n",
      "  X = df_reg.drop('SalePrice', 1)\n"
     ]
    }
   ],
   "source": [
    "# X = df_reg_high.drop('SalePrice', 1)\n",
    "# y = df_reg_high['SalePrice']\n",
    "\n",
    "# X = df_reg_low.drop('SalePrice', 1)\n",
    "# y = df_reg_low['SalePrice']\n",
    "\n",
    "X = df_reg.drop('SalePrice', 1)\n",
    "y = df_reg['SalePrice']/10000\n",
    "\n",
    "# X = label_2.drop('SalePrice', 1)\n",
    "# y = label_2['SalePrice']\n",
    "\n",
    "# Creating training and testing sub datasets\n",
    "X_train, X_test, y_train, y_test = train_test_split(X, y, test_size=0.2, random_state=0)\n",
    "# print(y_test)"
   ]
  },
  {
   "cell_type": "code",
   "execution_count": 14,
   "metadata": {},
   "outputs": [
    {
     "data": {
      "text/html": [
       "<div>\n",
       "<style scoped>\n",
       "    .dataframe tbody tr th:only-of-type {\n",
       "        vertical-align: middle;\n",
       "    }\n",
       "\n",
       "    .dataframe tbody tr th {\n",
       "        vertical-align: top;\n",
       "    }\n",
       "\n",
       "    .dataframe thead th {\n",
       "        text-align: right;\n",
       "    }\n",
       "</style>\n",
       "<table border=\"1\" class=\"dataframe\">\n",
       "  <thead>\n",
       "    <tr style=\"text-align: right;\">\n",
       "      <th></th>\n",
       "      <th>P-Value</th>\n",
       "    </tr>\n",
       "  </thead>\n",
       "  <tbody>\n",
       "    <tr>\n",
       "      <th>OverallQual</th>\n",
       "      <td>4.125132e-263</td>\n",
       "    </tr>\n",
       "    <tr>\n",
       "      <th>TotalArea</th>\n",
       "      <td>2.749542e-246</td>\n",
       "    </tr>\n",
       "    <tr>\n",
       "      <th>HouseArea</th>\n",
       "      <td>7.577438e-203</td>\n",
       "    </tr>\n",
       "    <tr>\n",
       "      <th>GrLivArea</th>\n",
       "      <td>2.413902e-143</td>\n",
       "    </tr>\n",
       "    <tr>\n",
       "      <th>GarageCars</th>\n",
       "      <td>1.549255e-138</td>\n",
       "    </tr>\n",
       "    <tr>\n",
       "      <th>GarageArea</th>\n",
       "      <td>1.772740e-124</td>\n",
       "    </tr>\n",
       "    <tr>\n",
       "      <th>TotalBsmtSF</th>\n",
       "      <td>4.422240e-95</td>\n",
       "    </tr>\n",
       "    <tr>\n",
       "      <th>HouseAge</th>\n",
       "      <td>3.414690e-88</td>\n",
       "    </tr>\n",
       "  </tbody>\n",
       "</table>\n",
       "</div>"
      ],
      "text/plain": [
       "                   P-Value\n",
       "OverallQual  4.125132e-263\n",
       "TotalArea    2.749542e-246\n",
       "HouseArea    7.577438e-203\n",
       "GrLivArea    2.413902e-143\n",
       "GarageCars   1.549255e-138\n",
       "GarageArea   1.772740e-124\n",
       "TotalBsmtSF   4.422240e-95\n",
       "HouseAge      3.414690e-88"
      ]
     },
     "execution_count": 14,
     "metadata": {},
     "output_type": "execute_result"
    }
   ],
   "source": [
    "from sklearn.feature_selection import f_regression as fr \n",
    "result = fr(X,y)\n",
    "pvalue = result[1]\n",
    "\n",
    "pvalue_table = pd.DataFrame(pvalue, X.columns, columns=['P-Value'])\n",
    "pvalue_table.sort_values(by=['P-Value'], axis=0)"
   ]
  },
  {
   "cell_type": "markdown",
   "metadata": {},
   "source": [
    "#### z = (x - u) / s\n",
    "where u is the mean of the training samples or zero if with_mean=False, and s is the standard deviation of the training samples or one if with_std=False."
   ]
  },
  {
   "cell_type": "code",
   "execution_count": 15,
   "metadata": {},
   "outputs": [],
   "source": [
    "from sklearn.preprocessing import StandardScaler\n",
    "from sklearn.pipeline import Pipeline\n",
    "\n",
    "scaler = StandardScaler()\n",
    "\n",
    "X_train = scaler.fit_transform(X_train)\n",
    "X_test = scaler.transform(X_test)"
   ]
  },
  {
   "cell_type": "code",
   "execution_count": 16,
   "metadata": {},
   "outputs": [],
   "source": [
    "def print_evaluate(true, predicted):  \n",
    "    # mae = mean_absolute_error(true, predicted)\n",
    "    mse = mean_squared_error(true, predicted)\n",
    "    rmse = np.sqrt(mean_squared_error(true, predicted))\n",
    "    r2_square = r2_score(true, predicted)\n",
    "    # print('MAE:', mae)\n",
    "    print('MSE:', mse)\n",
    "    print('RMSE:', rmse)\n",
    "    print('R2 Square', r2_square)\n",
    "    print('__________________________________')\n"
   ]
  },
  {
   "cell_type": "markdown",
   "metadata": {},
   "source": [
    "### Linear Regression"
   ]
  },
  {
   "cell_type": "code",
   "execution_count": 17,
   "metadata": {},
   "outputs": [],
   "source": [
    "X_b = np.c_[np.ones((X_train.shape[0], 1)), X_train]  # add x0 = 1 to each instance"
   ]
  },
  {
   "cell_type": "code",
   "execution_count": 18,
   "metadata": {},
   "outputs": [
    {
     "data": {
      "text/plain": [
       "LinearRegression(fit_intercept=False)"
      ]
     },
     "execution_count": 18,
     "metadata": {},
     "output_type": "execute_result"
    }
   ],
   "source": [
    "lin_reg = LinearRegression(fit_intercept=False)\n",
    "lin_reg.fit(X_b, y_train)\n",
    "# lin_reg.intercept_"
   ]
  },
  {
   "cell_type": "code",
   "execution_count": 19,
   "metadata": {},
   "outputs": [
    {
     "data": {
      "text/plain": [
       "array([18.38096447,  2.03822502,  2.26181039,  2.34747832, -0.67163829,\n",
       "        0.85060072, -0.25133872, -1.39366265, -0.78183743])"
      ]
     },
     "execution_count": 19,
     "metadata": {},
     "output_type": "execute_result"
    }
   ],
   "source": [
    "# coeff_df = pd.DataFrame(lin_reg.coef_, X.columns, columns=['Coefficient'])\n",
    "# coeff_df.sort_values(by=['Coefficient'], axis=0)\n",
    "lin_reg.coef_"
   ]
  },
  {
   "cell_type": "code",
   "execution_count": 20,
   "metadata": {},
   "outputs": [],
   "source": [
    "# y_pred = lin_reg.predict(X_b)\n",
    "# print_evaluate(y_test, y_pred)\n",
    "# # #Metrics to evaluate model \n",
    "# # # r2_linreg = r2_score(y_test, y_pred)\n",
    "# # # mse_linreg = mean_squared_error(y_test, y_pred)\n",
    "# # # print(r2_linreg)\n",
    "# # # print(mse_linreg)\n"
   ]
  },
  {
   "cell_type": "markdown",
   "metadata": {},
   "source": [
    "We will use the inv() function from NumPy’s linear algebra module (np.linalg) to compute the inverse of a matrix, and the dot() method for matrix multiplication"
   ]
  },
  {
   "cell_type": "code",
   "execution_count": 21,
   "metadata": {},
   "outputs": [
    {
     "name": "stdout",
     "output_type": "stream",
     "text": [
      "[18.38096447  2.03822502  2.26181039  2.34747832 -0.67163829  0.85060072\n",
      " -0.25133872 -1.39366265 -0.78183743]\n"
     ]
    }
   ],
   "source": [
    "theta_best = np.linalg.inv(X_b.T.dot(X_b)).dot(X_b.T).dot(y_train)\n",
    "print(theta_best)"
   ]
  },
  {
   "cell_type": "markdown",
   "metadata": {},
   "source": [
    "# Linear regression using batch gradient descent"
   ]
  },
  {
   "cell_type": "code",
   "execution_count": 22,
   "metadata": {},
   "outputs": [],
   "source": [
    "eta = 0.1  # learning rate\n",
    "theta = np.random.randn(X_train.shape[1]+1,1)  # random initialization of the weights\n",
    "m = y_train.size      #batch size is 100 samples \n",
    "#n_iter = 100\n",
    "X_b = np.c_[np.ones((X_train.shape[0], 1)), X_train]\n",
    "def gradient_descent(X_train, y_train, m, theta, eta, n_iter):\n",
    "    # theta_list = []\n",
    "    # theta =  X_b.T.dot(X_b.dot(theta) - y[1])\n",
    "    for i in range(1, n_iter):\n",
    "        gradients = 2/m * X_b.T.dot(X_b.dot(theta) - np.array(y_train).reshape(y_train.size,1))# This is the gradient descent iteration  - m is for the batch version\n",
    "        theta = theta - eta * gradients   \n",
    "        # theta_list.append(theta)\n",
    "\n",
    "\n",
    "    return theta"
   ]
  },
  {
   "cell_type": "code",
   "execution_count": 23,
   "metadata": {},
   "outputs": [
    {
     "name": "stdout",
     "output_type": "stream",
     "text": [
      "[[18.38096447]\n",
      " [ 2.03822502]\n",
      " [ 2.26181039]\n",
      " [ 2.34747832]\n",
      " [-0.67163829]\n",
      " [ 0.85060072]\n",
      " [-0.25133872]\n",
      " [-1.39366265]\n",
      " [-0.78183743]]\n"
     ]
    }
   ],
   "source": [
    "theta1 = gradient_descent(X_train, y_train, m, theta, 0.1, 100000)\n",
    "\n",
    "print(theta1)\n"
   ]
  },
  {
   "cell_type": "code",
   "execution_count": 24,
   "metadata": {},
   "outputs": [
    {
     "data": {
      "text/plain": [
       "array([11.35552566,  8.74177326, 22.64365549, ..., 30.11004109,\n",
       "       18.91545125, 11.31191297])"
      ]
     },
     "execution_count": 24,
     "metadata": {},
     "output_type": "execute_result"
    }
   ],
   "source": [
    "lin_reg.predict(X_b)"
   ]
  },
  {
   "cell_type": "code",
   "execution_count": 25,
   "metadata": {},
   "outputs": [
    {
     "data": {
      "text/plain": [
       "True"
      ]
     },
     "execution_count": 25,
     "metadata": {},
     "output_type": "execute_result"
    }
   ],
   "source": [
    "#dot product of training set and theta\n",
    "a = np.dot(X_b, theta1).reshape((-1))\n",
    "#predicted value of training set\n",
    "b = lin_reg.predict(X_b)\n",
    "np.allclose(a,b,rtol=1e-15, atol=1e-08, equal_nan=False)"
   ]
  },
  {
   "cell_type": "code",
   "execution_count": 26,
   "metadata": {},
   "outputs": [
    {
     "data": {
      "text/plain": [
       "array([11.35552566,  8.74177326, 22.64365549, ..., 30.11004109,\n",
       "       18.91545125, 11.31191297])"
      ]
     },
     "execution_count": 26,
     "metadata": {},
     "output_type": "execute_result"
    }
   ],
   "source": [
    "lin_reg.predict(X_b)"
   ]
  },
  {
   "cell_type": "code",
   "execution_count": 27,
   "metadata": {},
   "outputs": [],
   "source": [
    "# alpha = 0.0001\n",
    "# m = y_train.size\n",
    "# np.random.seed(10)\n",
    "# theta = np.random.rand(X_train.shape[1])\n",
    "# def gradient_descent_2(x, y, m, theta, alpha):\n",
    "#     cost_list = []\n",
    "#     theta_list = []\n",
    "#     prediction_list = []\n",
    "#     run = True\n",
    "#     cost_list.append(1e10)\n",
    "#     i=0\n",
    "#     while run:\n",
    "#         prediction = np.dot(x, theta)\n",
    "#         prediction_list.append(prediction)\n",
    "#         error = prediction - y\n",
    "#         cost = 1/(2*m) * np.dot(error.T, error)\n",
    "#         cost_list.append(cost)\n",
    "#         theta = theta - (alpha * (1/m) * np.dot(x.T, error))\n",
    "#         theta_list.append(theta)\n",
    "#         if cost_list[i]-cost_list[i+1] < 1e-5:\n",
    "#             run = False\n",
    "        \n",
    "#         i+=1\n",
    "#     cost_list.pop(0)\n",
    "#     return prediction_list, cost_list, theta_list"
   ]
  },
  {
   "cell_type": "code",
   "execution_count": 28,
   "metadata": {},
   "outputs": [],
   "source": [
    "# prediction_list, cost_list, theta_list = gradient_descent_2(X_train, y_train, m, theta, alpha)\n",
    "# theta = theta_list[-1]\n",
    "# print(theta)"
   ]
  },
  {
   "cell_type": "code",
   "execution_count": 29,
   "metadata": {},
   "outputs": [],
   "source": [
    "from sklearn.decomposition import PCA\n",
    "\n",
    "pca = PCA(n_components=1)\n",
    "X_pca = pca.fit_transform(X_train, y_train)"
   ]
  },
  {
   "cell_type": "code",
   "execution_count": 30,
   "metadata": {},
   "outputs": [],
   "source": [
    "X_new_b = np.c_[np.ones((X_pca.size)), X_pca]  # add x0 = 1 to each instance"
   ]
  },
  {
   "cell_type": "code",
   "execution_count": 31,
   "metadata": {},
   "outputs": [],
   "source": [
    "theta_path_bgd = []\n",
    "def plot_gradient_descent(theta, eta, theta_path=None):\n",
    "    m = len(X_new_b)\n",
    "    plt.plot(X_new_b, y_train, \"b.\")\n",
    "    n_iterations = 1000\n",
    "    for iteration in range(n_iterations):\n",
    "        if iteration < 10:\n",
    "            y_predict = X_new_b.dot(theta)\n",
    "            style = \"b-\" if iteration > 0 else \"r--\"\n",
    "            plt.plot(X_new_b, y_predict, style)\n",
    "        gradients = 2/m * X_new_b.T.dot(X_new_b.dot(theta) - np.array(y_train).reshape(y_train.size,1))\n",
    "        theta = theta - eta * gradients\n",
    "        if theta_path is not None:\n",
    "            theta_path.append(theta)\n",
    "    plt.xlabel(\"$x_1$\", fontsize=18)\n",
    "    plt.axis([0, 5, 0, 2])\n",
    "    plt.title(r\"$\\eta = {}$\".format(eta), fontsize=16)"
   ]
  },
  {
   "cell_type": "code",
   "execution_count": 32,
   "metadata": {},
   "outputs": [
    {
     "name": "stderr",
     "output_type": "stream",
     "text": [
      "/var/folders/mm/ws64ts1j4vj4yjq605hnx32w0000gn/T/ipykernel_72838/1535460202.py:12: RuntimeWarning: invalid value encountered in subtract\n",
      "  theta = theta - eta * gradients\n"
     ]
    },
    {
     "data": {
      "image/png": "[encoded data removed]",
      "text/plain": [
       "<Figure size 1000x400 with 3 Axes>"
      ]
     },
     "metadata": {},
     "output_type": "display_data"
    }
   ],
   "source": [
    "np.random.seed(42)\n",
    "# theta = np.random.randn(2,1)  # random initialization\n",
    "theta = np.random.randn(X_new_b.shape[1],1)  # random initialization of the weights\n",
    "\n",
    "plt.figure(figsize=(10,4))\n",
    "plt.subplot(131); plot_gradient_descent(theta, eta=0.02)\n",
    "plt.ylabel(\"$y$\", rotation=0, fontsize=18)\n",
    "plt.subplot(132); plot_gradient_descent(theta, eta=0.1, theta_path=theta_path_bgd)\n",
    "plt.subplot(133); plot_gradient_descent(theta, eta=0.5)\n",
    "\n",
    "plt.show()"
   ]
  },
  {
   "cell_type": "code",
   "execution_count": 33,
   "metadata": {},
   "outputs": [
    {
     "name": "stderr",
     "output_type": "stream",
     "text": [
      "/var/folders/mm/ws64ts1j4vj4yjq605hnx32w0000gn/T/ipykernel_72838/2471672205.py:1: FutureWarning: In a future version of pandas all arguments of DataFrame.drop except for the argument 'labels' will be keyword-only.\n",
      "  X = df_reg.drop('SalePrice', 1)\n"
     ]
    },
    {
     "data": {
      "text/plain": [
       "LinearRegression()"
      ]
     },
     "execution_count": 33,
     "metadata": {},
     "output_type": "execute_result"
    }
   ],
   "source": [
    "\n",
    "X = df_reg.drop('SalePrice', 1)\n",
    "y = df_reg['SalePrice']/10000\n",
    "\n",
    "# X = label_2.drop('SalePrice', 1)\n",
    "# y = label_2['SalePrice']\n",
    "\n",
    "# Creating training and testing sub datasets\n",
    "X_train, X_test, y_train, y_test = train_test_split(X, y, test_size=0.2, random_state=0)\n",
    "lin_reg = LinearRegression()\n",
    "lin_reg.fit(X_train, y_train)"
   ]
  },
  {
   "cell_type": "code",
   "execution_count": 34,
   "metadata": {},
   "outputs": [
    {
     "name": "stdout",
     "output_type": "stream",
     "text": [
      "MSE for test set:\n",
      "\n",
      "MSE: 12.56347592002775\n",
      "RMSE: 3.5444993891983887\n",
      "R2 Square 0.7060705174870822\n",
      "__________________________________\n",
      "MSE for train set:\n",
      "\n",
      "MSE: 9.121298187293096\n",
      "RMSE: 3.020148702844464\n",
      "R2 Square 0.7565946194480354\n",
      "__________________________________\n"
     ]
    }
   ],
   "source": [
    "y_pred_test = lin_reg.predict(X_test)\n",
    "print(\"MSE for test set:\"+\"\\n\")\n",
    "print_evaluate(y_test, y_pred_test)\n",
    "\n",
    "y_pred_train = lin_reg.predict(X_train)\n",
    "print(\"MSE for train set:\"+\"\\n\")\n",
    "print_evaluate(y_train, y_pred_train)"
   ]
  },
  {
   "cell_type": "markdown",
   "metadata": {},
   "source": [
    "# Regression MLP"
   ]
  },
  {
   "cell_type": "code",
   "execution_count": 2,
   "metadata": {},
   "outputs": [
    {
     "name": "stdout",
     "output_type": "stream",
     "text": [
      "Requirement already satisfied: tensorflow==2.10.0 in /Users/liujinglei/opt/anaconda3/lib/python3.9/site-packages (2.10.0)\n",
      "Requirement already satisfied: keras-preprocessing>=1.1.1 in /Users/liujinglei/opt/anaconda3/lib/python3.9/site-packages (from tensorflow==2.10.0) (1.1.2)\n",
      "Requirement already satisfied: typing-extensions>=3.6.6 in /Users/liujinglei/opt/anaconda3/lib/python3.9/site-packages (from tensorflow==2.10.0) (4.3.0)\n",
      "Requirement already satisfied: flatbuffers>=2.0 in /Users/liujinglei/opt/anaconda3/lib/python3.9/site-packages (from tensorflow==2.10.0) (22.10.26)\n",
      "Requirement already satisfied: six>=1.12.0 in /Users/liujinglei/opt/anaconda3/lib/python3.9/site-packages (from tensorflow==2.10.0) (1.16.0)\n",
      "Requirement already satisfied: packaging in /Users/liujinglei/opt/anaconda3/lib/python3.9/site-packages (from tensorflow==2.10.0) (21.3)\n",
      "Requirement already satisfied: keras<2.11,>=2.10.0 in /Users/liujinglei/opt/anaconda3/lib/python3.9/site-packages (from tensorflow==2.10.0) (2.10.0)\n",
      "Requirement already satisfied: libclang>=13.0.0 in /Users/liujinglei/opt/anaconda3/lib/python3.9/site-packages (from tensorflow==2.10.0) (14.0.6)\n",
      "Requirement already satisfied: gast<=0.4.0,>=0.2.1 in /Users/liujinglei/opt/anaconda3/lib/python3.9/site-packages (from tensorflow==2.10.0) (0.4.0)\n",
      "Requirement already satisfied: opt-einsum>=2.3.2 in /Users/liujinglei/opt/anaconda3/lib/python3.9/site-packages (from tensorflow==2.10.0) (3.3.0)\n",
      "Requirement already satisfied: google-pasta>=0.1.1 in /Users/liujinglei/opt/anaconda3/lib/python3.9/site-packages (from tensorflow==2.10.0) (0.2.0)\n",
      "Requirement already satisfied: protobuf<3.20,>=3.9.2 in /Users/liujinglei/opt/anaconda3/lib/python3.9/site-packages (from tensorflow==2.10.0) (3.19.6)\n",
      "Requirement already satisfied: termcolor>=1.1.0 in /Users/liujinglei/opt/anaconda3/lib/python3.9/site-packages (from tensorflow==2.10.0) (2.1.0)\n",
      "Requirement already satisfied: h5py>=2.9.0 in /Users/liujinglei/opt/anaconda3/lib/python3.9/site-packages (from tensorflow==2.10.0) (3.7.0)\n",
      "Requirement already satisfied: tensorflow-estimator<2.11,>=2.10.0 in /Users/liujinglei/opt/anaconda3/lib/python3.9/site-packages (from tensorflow==2.10.0) (2.10.0)\n",
      "Requirement already satisfied: tensorboard<2.11,>=2.10 in /Users/liujinglei/opt/anaconda3/lib/python3.9/site-packages (from tensorflow==2.10.0) (2.10.1)\n",
      "Requirement already satisfied: astunparse>=1.6.0 in /Users/liujinglei/opt/anaconda3/lib/python3.9/site-packages (from tensorflow==2.10.0) (1.6.3)\n",
      "Requirement already satisfied: grpcio<2.0,>=1.24.3 in /Users/liujinglei/opt/anaconda3/lib/python3.9/site-packages (from tensorflow==2.10.0) (1.50.0)\n",
      "Requirement already satisfied: numpy>=1.20 in /Users/liujinglei/opt/anaconda3/lib/python3.9/site-packages (from tensorflow==2.10.0) (1.21.5)\n",
      "Requirement already satisfied: wrapt>=1.11.0 in /Users/liujinglei/opt/anaconda3/lib/python3.9/site-packages (from tensorflow==2.10.0) (1.14.1)\n",
      "Requirement already satisfied: tensorflow-io-gcs-filesystem>=0.23.1 in /Users/liujinglei/opt/anaconda3/lib/python3.9/site-packages (from tensorflow==2.10.0) (0.27.0)\n",
      "Requirement already satisfied: absl-py>=1.0.0 in /Users/liujinglei/opt/anaconda3/lib/python3.9/site-packages (from tensorflow==2.10.0) (1.3.0)\n",
      "Requirement already satisfied: setuptools in /Users/liujinglei/opt/anaconda3/lib/python3.9/site-packages (from tensorflow==2.10.0) (63.4.1)\n",
      "Requirement already satisfied: wheel<1.0,>=0.23.0 in /Users/liujinglei/opt/anaconda3/lib/python3.9/site-packages (from astunparse>=1.6.0->tensorflow==2.10.0) (0.37.1)\n",
      "Requirement already satisfied: requests<3,>=2.21.0 in /Users/liujinglei/opt/anaconda3/lib/python3.9/site-packages (from tensorboard<2.11,>=2.10->tensorflow==2.10.0) (2.28.1)\n",
      "Requirement already satisfied: werkzeug>=1.0.1 in /Users/liujinglei/opt/anaconda3/lib/python3.9/site-packages (from tensorboard<2.11,>=2.10->tensorflow==2.10.0) (2.0.3)\n",
      "Requirement already satisfied: tensorboard-plugin-wit>=1.6.0 in /Users/liujinglei/opt/anaconda3/lib/python3.9/site-packages (from tensorboard<2.11,>=2.10->tensorflow==2.10.0) (1.8.1)\n",
      "Requirement already satisfied: tensorboard-data-server<0.7.0,>=0.6.0 in /Users/liujinglei/opt/anaconda3/lib/python3.9/site-packages (from tensorboard<2.11,>=2.10->tensorflow==2.10.0) (0.6.1)\n",
      "Requirement already satisfied: markdown>=2.6.8 in /Users/liujinglei/opt/anaconda3/lib/python3.9/site-packages (from tensorboard<2.11,>=2.10->tensorflow==2.10.0) (3.3.4)\n",
      "Requirement already satisfied: google-auth-oauthlib<0.5,>=0.4.1 in /Users/liujinglei/opt/anaconda3/lib/python3.9/site-packages (from tensorboard<2.11,>=2.10->tensorflow==2.10.0) (0.4.6)\n",
      "Requirement already satisfied: google-auth<3,>=1.6.3 in /Users/liujinglei/opt/anaconda3/lib/python3.9/site-packages (from tensorboard<2.11,>=2.10->tensorflow==2.10.0) (2.14.1)\n",
      "Requirement already satisfied: pyparsing!=3.0.5,>=2.0.2 in /Users/liujinglei/opt/anaconda3/lib/python3.9/site-packages (from packaging->tensorflow==2.10.0) (3.0.9)\n",
      "Requirement already satisfied: rsa<5,>=3.1.4 in /Users/liujinglei/opt/anaconda3/lib/python3.9/site-packages (from google-auth<3,>=1.6.3->tensorboard<2.11,>=2.10->tensorflow==2.10.0) (4.9)\n",
      "Requirement already satisfied: cachetools<6.0,>=2.0.0 in /Users/liujinglei/opt/anaconda3/lib/python3.9/site-packages (from google-auth<3,>=1.6.3->tensorboard<2.11,>=2.10->tensorflow==2.10.0) (5.2.0)\n",
      "Requirement already satisfied: pyasn1-modules>=0.2.1 in /Users/liujinglei/opt/anaconda3/lib/python3.9/site-packages (from google-auth<3,>=1.6.3->tensorboard<2.11,>=2.10->tensorflow==2.10.0) (0.2.8)\n",
      "Requirement already satisfied: requests-oauthlib>=0.7.0 in /Users/liujinglei/opt/anaconda3/lib/python3.9/site-packages (from google-auth-oauthlib<0.5,>=0.4.1->tensorboard<2.11,>=2.10->tensorflow==2.10.0) (1.3.1)\n",
      "Requirement already satisfied: certifi>=2017.4.17 in /Users/liujinglei/opt/anaconda3/lib/python3.9/site-packages (from requests<3,>=2.21.0->tensorboard<2.11,>=2.10->tensorflow==2.10.0) (2022.9.24)\n",
      "Requirement already satisfied: charset-normalizer<3,>=2 in /Users/liujinglei/opt/anaconda3/lib/python3.9/site-packages (from requests<3,>=2.21.0->tensorboard<2.11,>=2.10->tensorflow==2.10.0) (2.0.4)\n",
      "Requirement already satisfied: urllib3<1.27,>=1.21.1 in /Users/liujinglei/opt/anaconda3/lib/python3.9/site-packages (from requests<3,>=2.21.0->tensorboard<2.11,>=2.10->tensorflow==2.10.0) (1.26.11)\n",
      "Requirement already satisfied: idna<4,>=2.5 in /Users/liujinglei/opt/anaconda3/lib/python3.9/site-packages (from requests<3,>=2.21.0->tensorboard<2.11,>=2.10->tensorflow==2.10.0) (3.3)\n",
      "Requirement already satisfied: pyasn1<0.5.0,>=0.4.6 in /Users/liujinglei/opt/anaconda3/lib/python3.9/site-packages (from pyasn1-modules>=0.2.1->google-auth<3,>=1.6.3->tensorboard<2.11,>=2.10->tensorflow==2.10.0) (0.4.8)\n",
      "Requirement already satisfied: oauthlib>=3.0.0 in /Users/liujinglei/opt/anaconda3/lib/python3.9/site-packages (from requests-oauthlib>=0.7.0->google-auth-oauthlib<0.5,>=0.4.1->tensorboard<2.11,>=2.10->tensorflow==2.10.0) (3.2.2)\n"
     ]
    }
   ],
   "source": [
    "! pip install tensorflow==2.10.0"
   ]
  },
  {
   "cell_type": "code",
   "execution_count": 1,
   "metadata": {},
   "outputs": [
    {
     "ename": "",
     "evalue": "",
     "output_type": "error",
     "traceback": [
      "\u001b[1;31mThe Kernel crashed while executing code in the the current cell or a previous cell. Please review the code in the cell(s) to identify a possible cause of the failure. Click <a href='https://aka.ms/vscodeJupyterKernelCrash'>here</a> for more info. View Jupyter <a href='command:jupyter.viewOutput'>log</a> for further details."
     ]
    },
    {
     "ename": "",
     "evalue": "",
     "output_type": "error",
     "traceback": [
      "\u001b[1;31mCanceled future for execute_request message before replies were done"
     ]
    }
   ],
   "source": [
    "\n",
    "import tensorflow as tf\n",
    "from tensorflow import keras"
   ]
  },
  {
   "cell_type": "code",
   "execution_count": null,
   "metadata": {},
   "outputs": [],
   "source": [
    "X_train_full, X_test, y_train_full, y_test = train_test_split(X, y, random_state=42)\n",
    "X_train, X_valid, y_train, y_valid = train_test_split(X_train_full, y_train_full, random_state=42)\n",
    "\n",
    "scaler = StandardScaler()\n",
    "X_train = scaler.fit_transform(X_train)\n",
    "X_valid = scaler.transform(X_valid)\n",
    "X_test = scaler.transform(X_test)\n",
    "\n",
    "np.random.seed(42)\n",
    "tf.random.set_seed(42)"
   ]
  },
  {
   "cell_type": "code",
   "execution_count": null,
   "metadata": {},
   "outputs": [],
   "source": []
  }
 ],
 "metadata": {
  "kernelspec": {
   "display_name": "Python 3.9.13 ('base')",
   "language": "python",
   "name": "python3"
  },
  "language_info": {
   "codemirror_mode": {
    "name": "ipython",
    "version": 3
   },
   "file_extension": ".py",
   "mimetype": "text/x-python",
   "name": "python",
   "nbconvert_exporter": "python",
   "pygments_lexer": "ipython3",
   "version": "3.9.13"
  },
  "orig_nbformat": 4,
  "vscode": {
   "interpreter": {
    "hash": "9851e1369492554e682af8da439ce23d94f59fcc2cb07f7273af5455dce3c9c3"
   }
  }
 },
 "nbformat": 4,
 "nbformat_minor": 2
}
